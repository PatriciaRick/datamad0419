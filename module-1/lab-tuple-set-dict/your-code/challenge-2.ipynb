{
 "cells": [
  {
   "cell_type": "markdown",
   "metadata": {},
   "source": [
    "## Challenge 2: Sets\n",
    "\n",
    "There are a lot to learn about Python Sets and the information presented in the lesson is limited due to its length. To learn Python Sets in depth you are strongly encouraged to review the W3Schools tutorial on [Python Sets Examples and Methods](https://www.w3schools.com/python/python_sets.asp) before you work on this lab. Some difficult questions in this lab have their solutions in the W3Schools tutorial.\n",
    "\n",
    "#### First, import the Python `random` libary"
   ]
  },
  {
   "cell_type": "code",
   "execution_count": 1,
   "metadata": {},
   "outputs": [],
   "source": [
    "import random"
   ]
  },
  {
   "cell_type": "markdown",
   "metadata": {},
   "source": [
    "#### In the cell below, create a list named `sample_list_1` with 80 random values. \n",
    "\n",
    "Requirements:\n",
    "\n",
    "* Each value is an integer falling between 0 and 100.\n",
    "* Each value in the list is unique.\n",
    "\n",
    "Print `sample_list_1` to review its values\n",
    "\n",
    "*Hint: use `random.sample` ([reference](https://docs.python.org/3/library/random.html#random.sample)).*"
   ]
  },
  {
   "cell_type": "code",
   "execution_count": 2,
   "metadata": {},
   "outputs": [
    {
     "name": "stdout",
     "output_type": "stream",
     "text": [
      "[21, 42, 19, 47, 33, 0, 58, 8, 16, 77, 29, 55, 93, 63, 69, 84, 96, 25, 5, 89, 85, 95, 56, 62, 75, 52, 48, 23, 92, 74, 43, 60, 91, 22, 76, 34, 44, 78, 88, 46, 11, 24, 94, 7, 41, 37, 82, 3, 81, 45, 54, 97, 65, 14, 31, 87, 70, 61, 2, 72, 28, 53, 12, 40, 51, 38, 71, 17, 64, 98, 27, 13, 57, 18, 6, 20, 83, 90, 66, 1]\n"
     ]
    }
   ],
   "source": [
    "sample_list_1=random.sample(range(100),80)\n",
    "print(sample_list_1)\n"
   ]
  },
  {
   "cell_type": "markdown",
   "metadata": {},
   "source": [
    "#### Convert `sample_list_1` to a set called `set1`. Print the length of the set. Is its length still 80?"
   ]
  },
  {
   "cell_type": "code",
   "execution_count": 3,
   "metadata": {},
   "outputs": [
    {
     "name": "stdout",
     "output_type": "stream",
     "text": [
      "{0, 1, 2, 3, 5, 6, 7, 8, 11, 12, 13, 14, 16, 17, 18, 19, 20, 21, 22, 23, 24, 25, 27, 28, 29, 31, 33, 34, 37, 38, 40, 41, 42, 43, 44, 45, 46, 47, 48, 51, 52, 53, 54, 55, 56, 57, 58, 60, 61, 62, 63, 64, 65, 66, 69, 70, 71, 72, 74, 75, 76, 77, 78, 81, 82, 83, 84, 85, 87, 88, 89, 90, 91, 92, 93, 94, 95, 96, 97, 98}\n"
     ]
    }
   ],
   "source": [
    "set1=set(sample_list_1)\n",
    "print(set1)"
   ]
  },
  {
   "cell_type": "markdown",
   "metadata": {},
   "source": [
    "#### Create another list named `sample_list_2` with 80 random values.\n",
    "\n",
    "Requirements:\n",
    "\n",
    "* Each value is an integer falling between 0 and 100.\n",
    "* The values in the list don't have to be unique.\n",
    "\n",
    "*Hint: Use a FOR loop.*"
   ]
  },
  {
   "cell_type": "code",
   "execution_count": 4,
   "metadata": {},
   "outputs": [
    {
     "name": "stdout",
     "output_type": "stream",
     "text": [
      "[1, 32, 4, 34, 41, 83, 25, 77, 48, 81, 9, 62, 21, 38, 12, 33, 40, 47, 11, 89, 65, 39, 73, 63, 16, 68, 20, 17, 30, 69, 15, 99, 10, 52, 85, 2, 29, 94, 90, 95, 46, 50, 22, 72, 45, 61, 56, 79, 59, 84, 36, 96, 67, 5, 7, 19, 88, 44, 0, 31, 14, 57, 70, 92, 37, 71, 55, 3, 97, 58, 6, 80, 75, 23, 28, 53, 51, 60, 91, 43]\n"
     ]
    }
   ],
   "source": [
    "sample_list_2=random.sample(range(100),80)\n",
    "print(sample_list_2)\n"
   ]
  },
  {
   "cell_type": "markdown",
   "metadata": {},
   "source": [
    "#### Convert `sample_list_2` to a set called `set2`. Print the length of the set. Is its length still 80?"
   ]
  },
  {
   "cell_type": "code",
   "execution_count": 5,
   "metadata": {},
   "outputs": [
    {
     "name": "stdout",
     "output_type": "stream",
     "text": [
      "{0, 1, 2, 3, 4, 5, 6, 7, 9, 10, 11, 12, 14, 15, 16, 17, 19, 20, 21, 22, 23, 25, 28, 29, 30, 31, 32, 33, 34, 36, 37, 38, 39, 40, 41, 43, 44, 45, 46, 47, 48, 50, 51, 52, 53, 55, 56, 57, 58, 59, 60, 61, 62, 63, 65, 67, 68, 69, 70, 71, 72, 73, 75, 77, 79, 80, 81, 83, 84, 85, 88, 89, 90, 91, 92, 94, 95, 96, 97, 99}\n"
     ]
    }
   ],
   "source": [
    "set2=set(sample_list_2)\n",
    "print(set2)\n"
   ]
  },
  {
   "cell_type": "markdown",
   "metadata": {},
   "source": [
    "#### Identify the elements present in `set1` but not in `set2`. Assign the elements to a new set named `set3`."
   ]
  },
  {
   "cell_type": "code",
   "execution_count": 6,
   "metadata": {},
   "outputs": [
    {
     "name": "stdout",
     "output_type": "stream",
     "text": [
      "{64, 66, 98, 8, 42, 74, 76, 13, 78, 18, 82, 54, 87, 24, 27, 93}\n"
     ]
    }
   ],
   "source": [
    "set3=(set1-set2)\n",
    "print(set3)\n"
   ]
  },
  {
   "cell_type": "markdown",
   "metadata": {},
   "source": [
    "#### Identify the elements present in `set2` but not in `set1`. Assign the elements to a new set named `set4`."
   ]
  },
  {
   "cell_type": "code",
   "execution_count": 7,
   "metadata": {},
   "outputs": [
    {
     "name": "stdout",
     "output_type": "stream",
     "text": [
      "{32, 67, 4, 36, 68, 39, 99, 9, 10, 73, 15, 79, 80, 50, 59, 30}\n"
     ]
    }
   ],
   "source": [
    "set4=set2-set1\n",
    "print(set4)\n"
   ]
  },
  {
   "cell_type": "markdown",
   "metadata": {},
   "source": [
    "#### Now Identify the elements shared between `set1` and `set2`. Assign the elements to a new set named `set5`."
   ]
  },
  {
   "cell_type": "code",
   "execution_count": 8,
   "metadata": {},
   "outputs": [
    {
     "name": "stdout",
     "output_type": "stream",
     "text": [
      "{0, 1, 2, 3, 5, 6, 7, 11, 12, 14, 16, 17, 19, 20, 21, 22, 23, 25, 28, 29, 31, 33, 34, 37, 38, 40, 41, 43, 44, 45, 46, 47, 48, 51, 52, 53, 55, 56, 57, 58, 60, 61, 62, 63, 65, 69, 70, 71, 72, 75, 77, 81, 83, 84, 85, 88, 89, 90, 91, 92, 94, 95, 96, 97}\n"
     ]
    }
   ],
   "source": [
    "set5=set1.intersection(set2)\n",
    "print(set5)\n"
   ]
  },
  {
   "cell_type": "markdown",
   "metadata": {},
   "source": [
    "#### What is the relationship among the following values:\n",
    "\n",
    "* len(set1)\n",
    "* len(set2)\n",
    "* len(set3)\n",
    "* len(set4)\n",
    "* len(set5)\n",
    "\n",
    "Use a math formular to represent that relationship. Test your formular with Python code."
   ]
  },
  {
   "cell_type": "code",
   "execution_count": 9,
   "metadata": {},
   "outputs": [
    {
     "name": "stdout",
     "output_type": "stream",
     "text": [
      "True\n",
      "True\n",
      "True\n",
      "True\n"
     ]
    }
   ],
   "source": [
    "if len(set1)==len(set2):\n",
    "    print(True)\n",
    "if len(set3)==len(set4):\n",
    "    print(True)\n",
    "if len(set5)==len(set1)-len(set3):\n",
    "    print(True)\n",
    "if len(set3)==len(set4)==len(set1)-len(set1.intersection(set2))== len(set2)-len(set1.intersection(set2))==len(set1)-len(set5):\n",
    "    print(True)\n"
   ]
  },
  {
   "cell_type": "markdown",
   "metadata": {},
   "source": [
    "#### Create an empty set called `set6`."
   ]
  },
  {
   "cell_type": "code",
   "execution_count": 10,
   "metadata": {},
   "outputs": [
    {
     "name": "stdout",
     "output_type": "stream",
     "text": [
      "<class 'set'>\n",
      "set()\n"
     ]
    }
   ],
   "source": [
    "set6=set()\n",
    "print(type(set6))\n",
    "print (set6)\n"
   ]
  },
  {
   "cell_type": "markdown",
   "metadata": {},
   "source": [
    "#### Add `set3` and `set5` to `set6` using the Python Set `update` method."
   ]
  },
  {
   "cell_type": "code",
   "execution_count": 11,
   "metadata": {},
   "outputs": [
    {
     "name": "stdout",
     "output_type": "stream",
     "text": [
      "{64, 66, 8, 74, 76, 13, 78, 18, 82, 87, 24, 27, 93, 98, 42, 54}\n",
      "{0, 1, 2, 3, 5, 6, 7, 8, 11, 12, 13, 14, 16, 17, 18, 19, 20, 21, 22, 23, 24, 25, 27, 28, 29, 31, 33, 34, 37, 38, 40, 41, 42, 43, 44, 45, 46, 47, 48, 51, 52, 53, 54, 55, 56, 57, 58, 60, 61, 62, 63, 64, 65, 66, 69, 70, 71, 72, 74, 75, 76, 77, 78, 81, 82, 83, 84, 85, 87, 88, 89, 90, 91, 92, 93, 94, 95, 96, 97, 98}\n"
     ]
    }
   ],
   "source": [
    "set6.update(set3)\n",
    "print(set6)\n",
    "set6.update(set5)\n",
    "print(set6)"
   ]
  },
  {
   "cell_type": "markdown",
   "metadata": {},
   "source": [
    "#### Check if `set1` and `set6` are equal."
   ]
  },
  {
   "cell_type": "code",
   "execution_count": 12,
   "metadata": {},
   "outputs": [
    {
     "name": "stdout",
     "output_type": "stream",
     "text": [
      "True\n"
     ]
    }
   ],
   "source": [
    "if set1==set6:\n",
    "    print(True)\n",
    "else:\n",
    "    print(False)"
   ]
  },
  {
   "cell_type": "markdown",
   "metadata": {},
   "source": [
    "#### Check if `set1` contains `set2` using the Python Set `issubset` method. Then check if `set1` contains `set3`.*"
   ]
  },
  {
   "cell_type": "code",
   "execution_count": 13,
   "metadata": {},
   "outputs": [
    {
     "name": "stdout",
     "output_type": "stream",
     "text": [
      "False\n",
      "True\n"
     ]
    }
   ],
   "source": [
    "a=set2.issubset(set1)\n",
    "print(a)\n",
    "b=set3.issubset(set1)\n",
    "print(b)"
   ]
  },
  {
   "cell_type": "markdown",
   "metadata": {},
   "source": [
    "#### Using the Python Set `union` method, aggregate `set3`, `set4`, and `set5`. Then aggregate `set1` and `set2`. \n",
    "\n",
    "#### Check if the aggregated values are equal."
   ]
  },
  {
   "cell_type": "code",
   "execution_count": 14,
   "metadata": {},
   "outputs": [
    {
     "name": "stdout",
     "output_type": "stream",
     "text": [
      "{0, 1, 2, 3, 4, 5, 6, 7, 8, 9, 10, 11, 12, 13, 14, 15, 16, 17, 18, 19, 20, 21, 22, 23, 24, 25, 27, 28, 29, 30, 31, 32, 33, 34, 36, 37, 38, 39, 40, 41, 42, 43, 44, 45, 46, 47, 48, 50, 51, 52, 53, 54, 55, 56, 57, 58, 59, 60, 61, 62, 63, 64, 65, 66, 67, 68, 69, 70, 71, 72, 73, 74, 75, 76, 77, 78, 79, 80, 81, 82, 83, 84, 85, 87, 88, 89, 90, 91, 92, 93, 94, 95, 96, 97, 98, 99}\n",
      "{0, 1, 2, 3, 4, 5, 6, 7, 8, 9, 10, 11, 12, 13, 14, 15, 16, 17, 18, 19, 20, 21, 22, 23, 24, 25, 27, 28, 29, 30, 31, 32, 33, 34, 36, 37, 38, 39, 40, 41, 42, 43, 44, 45, 46, 47, 48, 50, 51, 52, 53, 54, 55, 56, 57, 58, 59, 60, 61, 62, 63, 64, 65, 66, 67, 68, 69, 70, 71, 72, 73, 74, 75, 76, 77, 78, 79, 80, 81, 82, 83, 84, 85, 87, 88, 89, 90, 91, 92, 93, 94, 95, 96, 97, 98, 99}\n"
     ]
    }
   ],
   "source": [
    "print(set3.union(set4,set5))\n",
    "print(set1.union(set2))\n"
   ]
  },
  {
   "cell_type": "markdown",
   "metadata": {},
   "source": [
    "#### Using the `pop` method, remove the first element from `set1`."
   ]
  },
  {
   "cell_type": "code",
   "execution_count": 15,
   "metadata": {},
   "outputs": [
    {
     "name": "stdout",
     "output_type": "stream",
     "text": [
      "{0, 1, 2, 3, 5, 6, 7, 8, 11, 12, 13, 14, 16, 17, 18, 19, 20, 21, 22, 23, 24, 25, 27, 28, 29, 31, 33, 34, 37, 38, 40, 41, 42, 43, 44, 45, 46, 47, 48, 51, 52, 53, 54, 55, 56, 57, 58, 60, 61, 62, 63, 64, 65, 66, 69, 70, 71, 72, 74, 75, 76, 77, 78, 81, 82, 83, 84, 85, 87, 88, 89, 90, 91, 92, 93, 94, 95, 96, 97, 98}\n",
      "{1, 2, 3, 5, 6, 7, 8, 11, 12, 13, 14, 16, 17, 18, 19, 20, 21, 22, 23, 24, 25, 27, 28, 29, 31, 33, 34, 37, 38, 40, 41, 42, 43, 44, 45, 46, 47, 48, 51, 52, 53, 54, 55, 56, 57, 58, 60, 61, 62, 63, 64, 65, 66, 69, 70, 71, 72, 74, 75, 76, 77, 78, 81, 82, 83, 84, 85, 87, 88, 89, 90, 91, 92, 93, 94, 95, 96, 97, 98}\n"
     ]
    }
   ],
   "source": [
    "print(set1)\n",
    "set1=list(set1)\n",
    "set1.pop(0)\n",
    "set1=set(set1)\n",
    "print(set1)\n"
   ]
  },
  {
   "cell_type": "markdown",
   "metadata": {},
   "source": [
    "#### Remove every element in the following list from `set1` if they are present in the set. Print the remaining elements.\n",
    "\n",
    "```\n",
    "list_to_remove = [1, 9, 11, 19, 21, 29, 31, 39, 41, 49, 51, 59, 61, 69, 71, 79, 81, 89, 91, 99]\n",
    "```"
   ]
  },
  {
   "cell_type": "code",
   "execution_count": 16,
   "metadata": {},
   "outputs": [
    {
     "name": "stdout",
     "output_type": "stream",
     "text": [
      "{2, 3, 5, 6, 7, 8, 12, 13, 14, 16, 17, 18, 20, 22, 23, 24, 25, 27, 28, 33, 34, 37, 38, 40, 42, 43, 44, 45, 46, 47, 48, 52, 53, 54, 55, 56, 57, 58, 60, 62, 63, 64, 65, 66, 70, 72, 74, 75, 76, 77, 78, 82, 83, 84, 85, 87, 88, 90, 92, 93, 94, 95, 96, 97, 98}\n"
     ]
    }
   ],
   "source": [
    "list_to_remove = [1, 9, 11, 19, 21, 29, 31, 39, 41, 49, 51, 59, 61, 69, 71, 79, 81, 89, 91, 99]\n",
    "a=set(list_to_remove)\n",
    "print(set1-a)\n"
   ]
  },
  {
   "cell_type": "code",
   "execution_count": null,
   "metadata": {},
   "outputs": [],
   "source": []
  }
 ],
 "metadata": {
  "kernelspec": {
   "display_name": "Python 3",
   "language": "python",
   "name": "python3"
  },
  "language_info": {
   "codemirror_mode": {
    "name": "ipython",
    "version": 3
   },
   "file_extension": ".py",
   "mimetype": "text/x-python",
   "name": "python",
   "nbconvert_exporter": "python",
   "pygments_lexer": "ipython3",
   "version": "3.7.2"
  }
 },
 "nbformat": 4,
 "nbformat_minor": 2
}
