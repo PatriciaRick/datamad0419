{
 "cells": [
  {
   "cell_type": "code",
   "execution_count": 1,
   "metadata": {},
   "outputs": [],
   "source": [
    "#1. Import the NUMPY package under the name np.\n",
    "import numpy as np"
   ]
  },
  {
   "cell_type": "code",
   "execution_count": 2,
   "metadata": {},
   "outputs": [
    {
     "name": "stdout",
     "output_type": "stream",
     "text": [
      "1.16.2\n"
     ]
    }
   ],
   "source": [
    "#2. Print the NUMPY version and the configuration.\n",
    "print(np.version.version)"
   ]
  },
  {
   "cell_type": "code",
   "execution_count": 3,
   "metadata": {},
   "outputs": [],
   "source": [
    "#3. Generate a 2x3x5 3-dimensional array with random values. Assign the array to variable \"a\"\n",
    "# Challenge: there are at least three easy ways that use numpy to generate random arrays. How many ways can you find?\n",
    "a=np.random.rand(2,3,5)\n"
   ]
  },
  {
   "cell_type": "code",
   "execution_count": 4,
   "metadata": {},
   "outputs": [
    {
     "name": "stdout",
     "output_type": "stream",
     "text": [
      "[[[0.92098511 0.50997162 0.03964584 0.91050281 0.49523913]\n",
      "  [0.31522544 0.8869004  0.28662592 0.06526304 0.9751441 ]\n",
      "  [0.89556557 0.76853779 0.8381115  0.3681627  0.95911879]]\n",
      "\n",
      " [[0.17521005 0.78597027 0.45717507 0.21609131 0.30089091]\n",
      "  [0.23952435 0.7064766  0.22164362 0.13558469 0.61811111]\n",
      "  [0.66840704 0.19771281 0.97322172 0.08446139 0.17092317]]]\n"
     ]
    }
   ],
   "source": [
    "#4. Print a.\n",
    "print(a)"
   ]
  },
  {
   "cell_type": "code",
   "execution_count": 5,
   "metadata": {},
   "outputs": [],
   "source": [
    "#5. Create a 5x2x3 3-dimensional array with all values equaling 1.\n",
    "#Assign the array to variable \"b\"\n",
    "b=np.full((5,2,3),1)"
   ]
  },
  {
   "cell_type": "code",
   "execution_count": 6,
   "metadata": {},
   "outputs": [
    {
     "name": "stdout",
     "output_type": "stream",
     "text": [
      "[[[1 1 1]\n",
      "  [1 1 1]]\n",
      "\n",
      " [[1 1 1]\n",
      "  [1 1 1]]\n",
      "\n",
      " [[1 1 1]\n",
      "  [1 1 1]]\n",
      "\n",
      " [[1 1 1]\n",
      "  [1 1 1]]\n",
      "\n",
      " [[1 1 1]\n",
      "  [1 1 1]]]\n"
     ]
    }
   ],
   "source": [
    "#6. Print b.\n",
    "print(b)"
   ]
  },
  {
   "cell_type": "code",
   "execution_count": 7,
   "metadata": {},
   "outputs": [
    {
     "name": "stdout",
     "output_type": "stream",
     "text": [
      "30\n",
      "30\n",
      "True\n"
     ]
    }
   ],
   "source": [
    "#7. Do a and b have the same size? How do you prove that in Python code?\n",
    "print(a.size)\n",
    "print(b.size)\n",
    "if a.size==b.size:\n",
    "    print (True)"
   ]
  },
  {
   "cell_type": "code",
   "execution_count": 8,
   "metadata": {},
   "outputs": [],
   "source": [
    "#8. Are you able to add a and b? Why or why not?\n",
    "#print(np.add(a, b))\n",
    "#No, because they do not have the same shape"
   ]
  },
  {
   "cell_type": "code",
   "execution_count": null,
   "metadata": {},
   "outputs": [],
   "source": []
  },
  {
   "cell_type": "code",
   "execution_count": 9,
   "metadata": {},
   "outputs": [
    {
     "name": "stdout",
     "output_type": "stream",
     "text": [
      "(5, 2, 3)\n",
      "[[[1 1 1 1 1]\n",
      "  [1 1 1 1 1]\n",
      "  [1 1 1 1 1]]\n",
      "\n",
      " [[1 1 1 1 1]\n",
      "  [1 1 1 1 1]\n",
      "  [1 1 1 1 1]]]\n",
      "(2, 3, 5)\n"
     ]
    }
   ],
   "source": [
    "#9. Transpose b so that it has the same structure of a (i.e. become a 2x3x5 array). Assign the transposed array to varialbe \"c\".\n",
    "print(b.shape)\n",
    "c = np.transpose(b, (1, 2, 0))\n",
    "print(c)\n",
    "print(c.shape)"
   ]
  },
  {
   "cell_type": "code",
   "execution_count": 10,
   "metadata": {},
   "outputs": [
    {
     "name": "stdout",
     "output_type": "stream",
     "text": [
      "[[[1.92098511 1.50997162 1.03964584 1.91050281 1.49523913]\n",
      "  [1.31522544 1.8869004  1.28662592 1.06526304 1.9751441 ]\n",
      "  [1.89556557 1.76853779 1.8381115  1.3681627  1.95911879]]\n",
      "\n",
      " [[1.17521005 1.78597027 1.45717507 1.21609131 1.30089091]\n",
      "  [1.23952435 1.7064766  1.22164362 1.13558469 1.61811111]\n",
      "  [1.66840704 1.19771281 1.97322172 1.08446139 1.17092317]]]\n"
     ]
    }
   ],
   "source": [
    "#10. Try to add a and c. Now it should work. Assign the sum to varialbe \"d\". But why does it work now?\n",
    "d=np.add(a, c)\n",
    "print(d)\n",
    "#Because now they do have the same shape"
   ]
  },
  {
   "cell_type": "code",
   "execution_count": 11,
   "metadata": {},
   "outputs": [
    {
     "name": "stdout",
     "output_type": "stream",
     "text": [
      "[[[0.92098511 0.50997162 0.03964584 0.91050281 0.49523913]\n",
      "  [0.31522544 0.8869004  0.28662592 0.06526304 0.9751441 ]\n",
      "  [0.89556557 0.76853779 0.8381115  0.3681627  0.95911879]]\n",
      "\n",
      " [[0.17521005 0.78597027 0.45717507 0.21609131 0.30089091]\n",
      "  [0.23952435 0.7064766  0.22164362 0.13558469 0.61811111]\n",
      "  [0.66840704 0.19771281 0.97322172 0.08446139 0.17092317]]]\n",
      "(2, 3, 5)\n",
      "[[[1.92098511 1.50997162 1.03964584 1.91050281 1.49523913]\n",
      "  [1.31522544 1.8869004  1.28662592 1.06526304 1.9751441 ]\n",
      "  [1.89556557 1.76853779 1.8381115  1.3681627  1.95911879]]\n",
      "\n",
      " [[1.17521005 1.78597027 1.45717507 1.21609131 1.30089091]\n",
      "  [1.23952435 1.7064766  1.22164362 1.13558469 1.61811111]\n",
      "  [1.66840704 1.19771281 1.97322172 1.08446139 1.17092317]]]\n",
      "(2, 3, 5)\n"
     ]
    }
   ],
   "source": [
    "#11. Print a and d. Notice the difference and relation of the two array in terms of the values? Explain.\n",
    "print(a)\n",
    "print(a.shape)\n",
    "print(d)\n",
    "print(d.shape)\n",
    "\n",
    "#Yes,d is a plus 1"
   ]
  },
  {
   "cell_type": "code",
   "execution_count": 12,
   "metadata": {},
   "outputs": [
    {
     "name": "stdout",
     "output_type": "stream",
     "text": [
      "[[[0.92098511 0.50997162 0.03964584 0.91050281 0.49523913]\n",
      "  [0.31522544 0.8869004  0.28662592 0.06526304 0.9751441 ]\n",
      "  [0.89556557 0.76853779 0.8381115  0.3681627  0.95911879]]\n",
      "\n",
      " [[0.17521005 0.78597027 0.45717507 0.21609131 0.30089091]\n",
      "  [0.23952435 0.7064766  0.22164362 0.13558469 0.61811111]\n",
      "  [0.66840704 0.19771281 0.97322172 0.08446139 0.17092317]]]\n"
     ]
    }
   ],
   "source": [
    "#12. Multiply a and c. Assign the result to e.\n",
    "e=a*c\n",
    "print(e)"
   ]
  },
  {
   "cell_type": "code",
   "execution_count": 13,
   "metadata": {},
   "outputs": [
    {
     "name": "stdout",
     "output_type": "stream",
     "text": [
      "True\n"
     ]
    }
   ],
   "source": [
    "#13. Does e equal to a? Why or why not?\n",
    "if (e==a).all(): \n",
    "    print(True)\n",
    "else: \n",
    "    print(False)\n",
    "#because a*1=a"
   ]
  },
  {
   "cell_type": "code",
   "execution_count": 14,
   "metadata": {},
   "outputs": [
    {
     "name": "stdout",
     "output_type": "stream",
     "text": [
      "1.9751440988033204\n",
      "1.039645843888139\n",
      "1.506213461697023\n"
     ]
    }
   ],
   "source": [
    "#14. Identify the max, min, and mean values in d. Assign those values to variables \"d_max\", \"d_min\", and \"d_mean\"\n",
    "d_max=np.amax(d)\n",
    "print(d_max)\n",
    "d_min=np.amin(d)\n",
    "print (d_min)\n",
    "d_mean=np.mean(d)\n",
    "print(d_mean)"
   ]
  },
  {
   "cell_type": "code",
   "execution_count": 15,
   "metadata": {},
   "outputs": [
    {
     "name": "stdout",
     "output_type": "stream",
     "text": [
      "[[[0.92098511 0.50997162 0.03964584 0.91050281 0.49523913]\n",
      "  [0.31522544 0.8869004  0.28662592 0.06526304 0.9751441 ]\n",
      "  [0.89556557 0.76853779 0.8381115  0.3681627  0.95911879]]\n",
      "\n",
      " [[0.17521005 0.78597027 0.45717507 0.21609131 0.30089091]\n",
      "  [0.23952435 0.7064766  0.22164362 0.13558469 0.61811111]\n",
      "  [0.66840704 0.19771281 0.97322172 0.08446139 0.17092317]]]\n"
     ]
    }
   ],
   "source": [
    "#15. Now we want to label the values in d. First create an empty array \"f\" with the same shape (i.e. 2x3x5) as d using `np.empty`.\n",
    "f=np.empty((2,3,5))\n",
    "print(f)"
   ]
  },
  {
   "cell_type": "code",
   "execution_count": 16,
   "metadata": {},
   "outputs": [
    {
     "name": "stdout",
     "output_type": "stream",
     "text": [
      "[[[ 75.  75.   0.  75.  25.]\n",
      "  [ 25.  75.  25.  25. 100.]\n",
      "  [ 75.  75.  75.  25.  75.]]\n",
      "\n",
      " [[ 25.  75.  25.  25.  25.]\n",
      "  [ 25.  75.  25.  25.  75.]\n",
      "  [ 75.  25.  75.  25.  25.]]]\n"
     ]
    }
   ],
   "source": [
    "\"\"\"\n",
    "#16. Populate the values in f. For each value in d, if it's larger than d_min but smaller than d_mean, assign 25 to the corresponding value in f.\n",
    "If a value in d is larger than d_mean but smaller than d_max, assign 75 to the corresponding value in f.\n",
    "If a value equals to d_mean, assign 50 to the corresponding value in f.\n",
    "Assign 0 to the corresponding value(s) in f for d_min in d.\n",
    "Assign 100 to the corresponding value(s) in f for d_max in d.\n",
    "In the end, f should have only the following values: 0, 25, 50, 75, and 100.\n",
    "Note: you don't have to use Numpy in this question.\n",
    "\"\"\"\n",
    "for i in d[:,:,:]:\n",
    "    for l in i[:]:\n",
    "        for j in l:\n",
    "            x=np.where(d==j)[0][0]\n",
    "            y= np.where(d==j)[1][0]\n",
    "            z= np.where(d==j)[2][0]\n",
    "            if j>d_min and j<d_mean:\n",
    "                f[x,y,z]=25\n",
    "            elif j>d_mean and j<d_max:\n",
    "                f[x,y,z]=75\n",
    "            elif j==d_mean:\n",
    "                f[x,y,z]=50\n",
    "            elif j==d_min:\n",
    "                f[x,y,z]=0\n",
    "            elif j==d_max:\n",
    "                f[x,y,z]=100\n",
    "print(f)\n",
    "\n",
    "        "
   ]
  },
  {
   "cell_type": "code",
   "execution_count": 17,
   "metadata": {},
   "outputs": [
    {
     "name": "stdout",
     "output_type": "stream",
     "text": [
      "[[[1.92098511 1.50997162 1.03964584 1.91050281 1.49523913]\n",
      "  [1.31522544 1.8869004  1.28662592 1.06526304 1.9751441 ]\n",
      "  [1.89556557 1.76853779 1.8381115  1.3681627  1.95911879]]\n",
      "\n",
      " [[1.17521005 1.78597027 1.45717507 1.21609131 1.30089091]\n",
      "  [1.23952435 1.7064766  1.22164362 1.13558469 1.61811111]\n",
      "  [1.66840704 1.19771281 1.97322172 1.08446139 1.17092317]]]\n",
      "[[[ 75.  75.   0.  75.  25.]\n",
      "  [ 25.  75.  25.  25. 100.]\n",
      "  [ 75.  75.  75.  25.  75.]]\n",
      "\n",
      " [[ 25.  75.  25.  25.  25.]\n",
      "  [ 25.  75.  25.  25.  75.]\n",
      "  [ 75.  25.  75.  25.  25.]]]\n"
     ]
    }
   ],
   "source": [
    "\"\"\"\n",
    "#17. Print d and f. Do you have your expected f?\n",
    "For instance, if your d is:\n",
    "array([[[1.85836099, 1.67064465, 1.62576044, 1.40243961, 1.88454931],\n",
    "        [1.75354326, 1.69403643, 1.36729252, 1.61415071, 1.12104981],\n",
    "        [1.72201435, 1.1862918 , 1.87078449, 1.7726778 , 1.88180042]],\n",
    "\n",
    "       [[1.44747908, 1.31673383, 1.02000951, 1.52218947, 1.97066381],\n",
    "        [1.79129243, 1.74983003, 1.96028037, 1.85166831, 1.65450881],\n",
    "        [1.18068344, 1.9587381 , 1.00656599, 1.93402165, 1.73514584]]])\n",
    "\n",
    "Your f should be:\n",
    "array([[[ 75.,  75.,  75.,  25.,  75.],\n",
    "        [ 75.,  75.,  25.,  25.,  25.],\n",
    "        [ 75.,  25.,  75.,  75.,  75.]],\n",
    "\n",
    "       [[ 25.,  25.,  25.,  25., 100.],\n",
    "        [ 75.,  75.,  75.,  75.,  75.],\n",
    "        [ 25.,  75.,   0.,  75.,  75.]]])\n",
    "\"\"\"\n",
    "print(d)\n",
    "print(f)\n",
    "#Yes, I have my expected f"
   ]
  },
  {
   "cell_type": "code",
   "execution_count": 1,
   "metadata": {},
   "outputs": [
    {
     "data": {
      "text/plain": [
       "'\\n#18. Bonus question: instead of using numbers (i.e. 0, 25, 50, 75, and 100), how to use string values \\n(\"A\", \"B\", \"C\", \"D\", and \"E\") to label the array elements? You are expecting the result to be:\\narray([[[ \\'D\\',  \\'D\\',  \\'D\\',  \\'B\\',  \\'D\\'],\\n        [ \\'D\\',  \\'D\\',  \\'B\\',  \\'B\\',  \\'B\\'],\\n        [ \\'D\\',  \\'B\\',  \\'D\\',  \\'D\\',  \\'D\\']],\\n\\n       [[ \\'B\\',  \\'B\\',  \\'B\\',  \\'B\\',  \\'E\\'],\\n        [ \\'D\\',  \\'D\\',  \\'D\\',  \\'D\\',  \\'D\\'],\\n        [ \\'B\\',  \\'D\\',   \\'A\\',  \\'D\\', \\'D\\']]])\\nAgain, you don\\'t need Numpy in this question.\\n'"
      ]
     },
     "execution_count": 1,
     "metadata": {},
     "output_type": "execute_result"
    }
   ],
   "source": [
    "\"\"\"\n",
    "#18. Bonus question: instead of using numbers (i.e. 0, 25, 50, 75, and 100), how to use string values \n",
    "(\"A\", \"B\", \"C\", \"D\", and \"E\") to label the array elements? You are expecting the result to be:\n",
    "array([[[ 'D',  'D',  'D',  'B',  'D'],\n",
    "        [ 'D',  'D',  'B',  'B',  'B'],\n",
    "        [ 'D',  'B',  'D',  'D',  'D']],\n",
    "\n",
    "       [[ 'B',  'B',  'B',  'B',  'E'],\n",
    "        [ 'D',  'D',  'D',  'D',  'D'],\n",
    "        [ 'B',  'D',   'A',  'D', 'D']]])\n",
    "Again, you don't need Numpy in this question.\n",
    "\"\"\""
   ]
  },
  {
   "cell_type": "code",
   "execution_count": null,
   "metadata": {},
   "outputs": [],
   "source": []
  }
 ],
 "metadata": {
  "kernelspec": {
   "display_name": "Python 3",
   "language": "python",
   "name": "python3"
  },
  "language_info": {
   "codemirror_mode": {
    "name": "ipython",
    "version": 3
   },
   "file_extension": ".py",
   "mimetype": "text/x-python",
   "name": "python",
   "nbconvert_exporter": "python",
   "pygments_lexer": "ipython3",
   "version": "3.7.2"
  }
 },
 "nbformat": 4,
 "nbformat_minor": 2
}
