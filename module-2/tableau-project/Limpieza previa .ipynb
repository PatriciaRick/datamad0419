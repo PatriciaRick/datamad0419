{
 "cells": [
  {
   "cell_type": "code",
   "execution_count": 1,
   "metadata": {},
   "outputs": [],
   "source": [
    "import pandas as pd\n",
    "from pymongo import MongoClient\n",
    "client = MongoClient()\n",
    "import json\n",
    "from pandas.io.json import json_normalize\n",
    "from geojson import Polygon"
   ]
  },
  {
   "cell_type": "markdown",
   "metadata": {},
   "source": [
    "Se solicitan, de la base de datos de mongo, aquellos datos en los cuales exista latitud y longitud y las columnas que son de interés."
   ]
  },
  {
   "cell_type": "code",
   "execution_count": 2,
   "metadata": {},
   "outputs": [],
   "source": [
    "db = client.companies\n",
    "\n",
    "x=db.companies.find({\"$and\":\n",
    "                     [ {'offices.latitude':{'$exists': True, '$ne':None}},\n",
    "                      {'offices.longitude':{'$exists': True,'$ne':None}},\n",
    "                      {'founded_year':{'$gt':2000}},\n",
    "                     ]} \n",
    "                    ,{'name':1, 'category_code':1, 'number_of_employees':1, 'offices.latitude':1, 'offices.longitude':1,'offices.city':1,'founded_year':1,'relationships.title':1,'_id':0})\n",
    "\n"
   ]
  },
  {
   "cell_type": "markdown",
   "metadata": {},
   "source": [
    "A continuación se normalizan los datos de offices para aplanarlos. "
   ]
  },
  {
   "cell_type": "code",
   "execution_count": 3,
   "metadata": {},
   "outputs": [],
   "source": [
    "df = json_normalize (data=x, record_path=['offices'], \n",
    "                     meta=['name', 'category_code','number_of_employees','founded_year'], \n",
    "                     errors='ignore')"
   ]
  },
  {
   "cell_type": "code",
   "execution_count": 4,
   "metadata": {
    "scrolled": true
   },
   "outputs": [
    {
     "data": {
      "text/html": [
       "<div>\n",
       "<style scoped>\n",
       "    .dataframe tbody tr th:only-of-type {\n",
       "        vertical-align: middle;\n",
       "    }\n",
       "\n",
       "    .dataframe tbody tr th {\n",
       "        vertical-align: top;\n",
       "    }\n",
       "\n",
       "    .dataframe thead th {\n",
       "        text-align: right;\n",
       "    }\n",
       "</style>\n",
       "<table border=\"1\" class=\"dataframe\">\n",
       "  <thead>\n",
       "    <tr style=\"text-align: right;\">\n",
       "      <th></th>\n",
       "      <th>city</th>\n",
       "      <th>latitude</th>\n",
       "      <th>longitude</th>\n",
       "      <th>name</th>\n",
       "      <th>category_code</th>\n",
       "      <th>number_of_employees</th>\n",
       "      <th>founded_year</th>\n",
       "    </tr>\n",
       "  </thead>\n",
       "  <tbody>\n",
       "    <tr>\n",
       "      <th>0</th>\n",
       "      <td>Seattle</td>\n",
       "      <td>47.603122</td>\n",
       "      <td>-122.333253</td>\n",
       "      <td>Wetpaint</td>\n",
       "      <td>web</td>\n",
       "      <td>47</td>\n",
       "      <td>2005</td>\n",
       "    </tr>\n",
       "    <tr>\n",
       "      <th>1</th>\n",
       "      <td>New York</td>\n",
       "      <td>40.723731</td>\n",
       "      <td>-73.996431</td>\n",
       "      <td>Wetpaint</td>\n",
       "      <td>web</td>\n",
       "      <td>47</td>\n",
       "      <td>2005</td>\n",
       "    </tr>\n",
       "    <tr>\n",
       "      <th>2</th>\n",
       "      <td>Pleasanton</td>\n",
       "      <td>37.692934</td>\n",
       "      <td>-121.904945</td>\n",
       "      <td>Zoho</td>\n",
       "      <td>software</td>\n",
       "      <td>1600</td>\n",
       "      <td>2005</td>\n",
       "    </tr>\n",
       "    <tr>\n",
       "      <th>3</th>\n",
       "      <td>West Hollywood</td>\n",
       "      <td>34.090368</td>\n",
       "      <td>-118.393064</td>\n",
       "      <td>Geni</td>\n",
       "      <td>web</td>\n",
       "      <td>18</td>\n",
       "      <td>2006</td>\n",
       "    </tr>\n",
       "    <tr>\n",
       "      <th>4</th>\n",
       "      <td>San Francisco</td>\n",
       "      <td>37.764726</td>\n",
       "      <td>-122.394523</td>\n",
       "      <td>Digg</td>\n",
       "      <td>news</td>\n",
       "      <td>60</td>\n",
       "      <td>2004</td>\n",
       "    </tr>\n",
       "  </tbody>\n",
       "</table>\n",
       "</div>"
      ],
      "text/plain": [
       "             city   latitude   longitude      name category_code  \\\n",
       "0         Seattle  47.603122 -122.333253  Wetpaint           web   \n",
       "1        New York  40.723731  -73.996431  Wetpaint           web   \n",
       "2      Pleasanton  37.692934 -121.904945      Zoho      software   \n",
       "3  West Hollywood  34.090368 -118.393064      Geni           web   \n",
       "4   San Francisco  37.764726 -122.394523      Digg          news   \n",
       "\n",
       "  number_of_employees  founded_year  \n",
       "0                  47          2005  \n",
       "1                  47          2005  \n",
       "2                1600          2005  \n",
       "3                  18          2006  \n",
       "4                  60          2004  "
      ]
     },
     "execution_count": 4,
     "metadata": {},
     "output_type": "execute_result"
    }
   ],
   "source": [
    "df.head()"
   ]
  },
  {
   "cell_type": "markdown",
   "metadata": {},
   "source": [
    "A continuación se comprueba si hay ciudades con pocas empresas."
   ]
  },
  {
   "cell_type": "code",
   "execution_count": 5,
   "metadata": {},
   "outputs": [
    {
     "data": {
      "text/plain": [
       "San Francisco             441\n",
       "New York                  349\n",
       "London                    194\n",
       "                          167\n",
       "Seattle                   134\n",
       "Austin                    110\n",
       "Palo Alto                 106\n",
       "Los Angeles                98\n",
       "Mountain View              94\n",
       "Chicago                    89\n",
       "Sunnyvale                  77\n",
       "Paris                      75\n",
       "Toronto                    68\n",
       "San Diego                  66\n",
       "San Jose                   65\n",
       "San Mateo                  61\n",
       "Cambridge                  57\n",
       "Atlanta                    57\n",
       "Boston                     56\n",
       "Berlin                     52\n",
       "Santa Clara                51\n",
       "Redwood City               43\n",
       "Vancouver                  40\n",
       "Menlo Park                 39\n",
       "Santa Monica               37\n",
       "Boulder                    36\n",
       "Amsterdam                  36\n",
       "Bangalore                  35\n",
       "Portland                   31\n",
       "Madrid                     30\n",
       "                         ... \n",
       "Longueuil                   1\n",
       "Baghdad                     1\n",
       "Bear                        1\n",
       "Highland PArk               1\n",
       "Coventry                    1\n",
       "chennai                     1\n",
       "Arezzo                      1\n",
       "Emmerich am Rhein           1\n",
       "North Reading               1\n",
       "cedex                       1\n",
       "Enschede                    1\n",
       "Studio City                 1\n",
       "Tallahassee                 1\n",
       "Clifton Hill                1\n",
       "Sanford                     1\n",
       "Indian Harbour Beach        1\n",
       "istanbul                    1\n",
       "Pattaya                     1\n",
       "Celje                       1\n",
       "Wood River                  1\n",
       "Santiago de Compostela      1\n",
       "Pomona                      1\n",
       "Münster                   1\n",
       "Sceaux                      1\n",
       "Greenbelt                   1\n",
       "Chattanooga                 1\n",
       "Kauhajoki                   1\n",
       "American Falls              1\n",
       "West Bloomfield             1\n",
       "Aiea                        1\n",
       "Name: city, Length: 1487, dtype: int64"
      ]
     },
     "execution_count": 5,
     "metadata": {},
     "output_type": "execute_result"
    }
   ],
   "source": [
    "df['city'].value_counts()"
   ]
  },
  {
   "cell_type": "markdown",
   "metadata": {},
   "source": [
    "Puesto que en algunas ciudades hay pocas empresas, y queremos lugares en los cuales tengamos varias empresas cerca, se eliminan todas aquellas ciudades que tengan menos de 20 empresas."
   ]
  },
  {
   "cell_type": "code",
   "execution_count": 6,
   "metadata": {},
   "outputs": [],
   "source": [
    "df=df.groupby('city').filter(lambda x : len(x)>20)"
   ]
  },
  {
   "cell_type": "markdown",
   "metadata": {},
   "source": [
    "A continuación se observa los tipos de compañía registrados."
   ]
  },
  {
   "cell_type": "code",
   "execution_count": 7,
   "metadata": {
    "scrolled": true
   },
   "outputs": [
    {
     "data": {
      "text/plain": [
       "web                 836\n",
       "software            418\n",
       "games_video         259\n",
       "advertising         232\n",
       "mobile              226\n",
       "enterprise          190\n",
       "ecommerce           140\n",
       "other               124\n",
       "network_hosting     121\n",
       "search               98\n",
       "public_relations     95\n",
       "consulting           77\n",
       "cleantech            51\n",
       "hardware             44\n",
       "biotech              34\n",
       "security             31\n",
       "social               30\n",
       "analytics            27\n",
       "semiconductor        20\n",
       "finance              18\n",
       "education            14\n",
       "music                14\n",
       "news                 13\n",
       "travel               12\n",
       "messaging            11\n",
       "medical               7\n",
       "health                6\n",
       "real_estate           6\n",
       "legal                 4\n",
       "hospitality           4\n",
       "photo_video           4\n",
       "design                2\n",
       "manufacturing         2\n",
       "automotive            2\n",
       "nanotech              2\n",
       "fashion               2\n",
       "sports                2\n",
       "nonprofit             2\n",
       "Name: category_code, dtype: int64"
      ]
     },
     "execution_count": 7,
     "metadata": {},
     "output_type": "execute_result"
    }
   ],
   "source": [
    "df['category_code'].value_counts()"
   ]
  },
  {
   "cell_type": "markdown",
   "metadata": {},
   "source": [
    "En vista de que las categorías menos repetidas no son el tipo de categorías que nos resulta de interés, se eliminan también todas las repetidas menos de 20 veces."
   ]
  },
  {
   "cell_type": "code",
   "execution_count": 8,
   "metadata": {},
   "outputs": [],
   "source": [
    "df=df.groupby('category_code').filter(lambda x : len(x)>20)"
   ]
  },
  {
   "cell_type": "markdown",
   "metadata": {},
   "source": [
    "Se resetea el índice para que vuelva a estar ordenado y se pueda trabajar con ello."
   ]
  },
  {
   "cell_type": "code",
   "execution_count": 9,
   "metadata": {
    "scrolled": true
   },
   "outputs": [
    {
     "data": {
      "text/html": [
       "<div>\n",
       "<style scoped>\n",
       "    .dataframe tbody tr th:only-of-type {\n",
       "        vertical-align: middle;\n",
       "    }\n",
       "\n",
       "    .dataframe tbody tr th {\n",
       "        vertical-align: top;\n",
       "    }\n",
       "\n",
       "    .dataframe thead th {\n",
       "        text-align: right;\n",
       "    }\n",
       "</style>\n",
       "<table border=\"1\" class=\"dataframe\">\n",
       "  <thead>\n",
       "    <tr style=\"text-align: right;\">\n",
       "      <th></th>\n",
       "      <th>index</th>\n",
       "      <th>city</th>\n",
       "      <th>latitude</th>\n",
       "      <th>longitude</th>\n",
       "      <th>name</th>\n",
       "      <th>category_code</th>\n",
       "      <th>number_of_employees</th>\n",
       "      <th>founded_year</th>\n",
       "    </tr>\n",
       "  </thead>\n",
       "  <tbody>\n",
       "    <tr>\n",
       "      <th>0</th>\n",
       "      <td>0</td>\n",
       "      <td>Seattle</td>\n",
       "      <td>47.603122</td>\n",
       "      <td>-122.333253</td>\n",
       "      <td>Wetpaint</td>\n",
       "      <td>web</td>\n",
       "      <td>47</td>\n",
       "      <td>2005</td>\n",
       "    </tr>\n",
       "    <tr>\n",
       "      <th>1</th>\n",
       "      <td>1</td>\n",
       "      <td>New York</td>\n",
       "      <td>40.723731</td>\n",
       "      <td>-73.996431</td>\n",
       "      <td>Wetpaint</td>\n",
       "      <td>web</td>\n",
       "      <td>47</td>\n",
       "      <td>2005</td>\n",
       "    </tr>\n",
       "    <tr>\n",
       "      <th>2</th>\n",
       "      <td>5</td>\n",
       "      <td>Menlo Park</td>\n",
       "      <td>37.484130</td>\n",
       "      <td>-122.169472</td>\n",
       "      <td>Gizmoz</td>\n",
       "      <td>web</td>\n",
       "      <td>None</td>\n",
       "      <td>2003</td>\n",
       "    </tr>\n",
       "    <tr>\n",
       "      <th>3</th>\n",
       "      <td>7</td>\n",
       "      <td>Los Angeles</td>\n",
       "      <td>34.057498</td>\n",
       "      <td>-118.446596</td>\n",
       "      <td>Helio</td>\n",
       "      <td>mobile</td>\n",
       "      <td>None</td>\n",
       "      <td>2005</td>\n",
       "    </tr>\n",
       "    <tr>\n",
       "      <th>4</th>\n",
       "      <td>9</td>\n",
       "      <td>New York City</td>\n",
       "      <td>40.757929</td>\n",
       "      <td>-73.985506</td>\n",
       "      <td>MeetMoi</td>\n",
       "      <td>social</td>\n",
       "      <td>15</td>\n",
       "      <td>2007</td>\n",
       "    </tr>\n",
       "  </tbody>\n",
       "</table>\n",
       "</div>"
      ],
      "text/plain": [
       "   index           city   latitude   longitude      name category_code  \\\n",
       "0      0        Seattle  47.603122 -122.333253  Wetpaint           web   \n",
       "1      1       New York  40.723731  -73.996431  Wetpaint           web   \n",
       "2      5     Menlo Park  37.484130 -122.169472    Gizmoz           web   \n",
       "3      7    Los Angeles  34.057498 -118.446596     Helio        mobile   \n",
       "4      9  New York City  40.757929  -73.985506   MeetMoi        social   \n",
       "\n",
       "  number_of_employees  founded_year  \n",
       "0                  47          2005  \n",
       "1                  47          2005  \n",
       "2                None          2003  \n",
       "3                None          2005  \n",
       "4                  15          2007  "
      ]
     },
     "execution_count": 9,
     "metadata": {},
     "output_type": "execute_result"
    }
   ],
   "source": [
    "df=df.reset_index()\n",
    "df.head()"
   ]
  },
  {
   "cell_type": "code",
   "execution_count": 10,
   "metadata": {
    "scrolled": false
   },
   "outputs": [],
   "source": [
    "df = df.drop('index',axis=1)"
   ]
  },
  {
   "cell_type": "markdown",
   "metadata": {},
   "source": [
    "Se crea el punto de geolocalización para utilizar a través de mongo. "
   ]
  },
  {
   "cell_type": "code",
   "execution_count": 11,
   "metadata": {
    "scrolled": false
   },
   "outputs": [
    {
     "data": {
      "text/html": [
       "<div>\n",
       "<style scoped>\n",
       "    .dataframe tbody tr th:only-of-type {\n",
       "        vertical-align: middle;\n",
       "    }\n",
       "\n",
       "    .dataframe tbody tr th {\n",
       "        vertical-align: top;\n",
       "    }\n",
       "\n",
       "    .dataframe thead th {\n",
       "        text-align: right;\n",
       "    }\n",
       "</style>\n",
       "<table border=\"1\" class=\"dataframe\">\n",
       "  <thead>\n",
       "    <tr style=\"text-align: right;\">\n",
       "      <th></th>\n",
       "      <th>city</th>\n",
       "      <th>latitude</th>\n",
       "      <th>longitude</th>\n",
       "      <th>name</th>\n",
       "      <th>category_code</th>\n",
       "      <th>number_of_employees</th>\n",
       "      <th>founded_year</th>\n",
       "      <th>geo</th>\n",
       "    </tr>\n",
       "  </thead>\n",
       "  <tbody>\n",
       "    <tr>\n",
       "      <th>0</th>\n",
       "      <td>Seattle</td>\n",
       "      <td>47.603122</td>\n",
       "      <td>-122.333253</td>\n",
       "      <td>Wetpaint</td>\n",
       "      <td>web</td>\n",
       "      <td>47</td>\n",
       "      <td>2005</td>\n",
       "      <td>{'type': 'Point', 'coordinates': [-122.333253,...</td>\n",
       "    </tr>\n",
       "    <tr>\n",
       "      <th>1</th>\n",
       "      <td>New York</td>\n",
       "      <td>40.723731</td>\n",
       "      <td>-73.996431</td>\n",
       "      <td>Wetpaint</td>\n",
       "      <td>web</td>\n",
       "      <td>47</td>\n",
       "      <td>2005</td>\n",
       "      <td>{'type': 'Point', 'coordinates': [-73.9964312,...</td>\n",
       "    </tr>\n",
       "    <tr>\n",
       "      <th>2</th>\n",
       "      <td>Menlo Park</td>\n",
       "      <td>37.484130</td>\n",
       "      <td>-122.169472</td>\n",
       "      <td>Gizmoz</td>\n",
       "      <td>web</td>\n",
       "      <td>None</td>\n",
       "      <td>2003</td>\n",
       "      <td>{'type': 'Point', 'coordinates': [-122.169472,...</td>\n",
       "    </tr>\n",
       "    <tr>\n",
       "      <th>3</th>\n",
       "      <td>Los Angeles</td>\n",
       "      <td>34.057498</td>\n",
       "      <td>-118.446596</td>\n",
       "      <td>Helio</td>\n",
       "      <td>mobile</td>\n",
       "      <td>None</td>\n",
       "      <td>2005</td>\n",
       "      <td>{'type': 'Point', 'coordinates': [-118.446596,...</td>\n",
       "    </tr>\n",
       "    <tr>\n",
       "      <th>4</th>\n",
       "      <td>New York City</td>\n",
       "      <td>40.757929</td>\n",
       "      <td>-73.985506</td>\n",
       "      <td>MeetMoi</td>\n",
       "      <td>social</td>\n",
       "      <td>15</td>\n",
       "      <td>2007</td>\n",
       "      <td>{'type': 'Point', 'coordinates': [-73.985506, ...</td>\n",
       "    </tr>\n",
       "  </tbody>\n",
       "</table>\n",
       "</div>"
      ],
      "text/plain": [
       "            city   latitude   longitude      name category_code  \\\n",
       "0        Seattle  47.603122 -122.333253  Wetpaint           web   \n",
       "1       New York  40.723731  -73.996431  Wetpaint           web   \n",
       "2     Menlo Park  37.484130 -122.169472    Gizmoz           web   \n",
       "3    Los Angeles  34.057498 -118.446596     Helio        mobile   \n",
       "4  New York City  40.757929  -73.985506   MeetMoi        social   \n",
       "\n",
       "  number_of_employees  founded_year  \\\n",
       "0                  47          2005   \n",
       "1                  47          2005   \n",
       "2                None          2003   \n",
       "3                None          2005   \n",
       "4                  15          2007   \n",
       "\n",
       "                                                 geo  \n",
       "0  {'type': 'Point', 'coordinates': [-122.333253,...  \n",
       "1  {'type': 'Point', 'coordinates': [-73.9964312,...  \n",
       "2  {'type': 'Point', 'coordinates': [-122.169472,...  \n",
       "3  {'type': 'Point', 'coordinates': [-118.446596,...  \n",
       "4  {'type': 'Point', 'coordinates': [-73.985506, ...  "
      ]
     },
     "execution_count": 11,
     "metadata": {},
     "output_type": "execute_result"
    }
   ],
   "source": [
    "serie=[]\n",
    "index=0\n",
    "for i in df['latitude']:\n",
    "    serie.append({\"type\": \"Point\", \"coordinates\": [df[\"longitude\"][index], df[\"latitude\"][index]]})\n",
    "    index+=1\n",
    "    \n",
    "df['geo']=serie\n",
    "df.head()"
   ]
  },
  {
   "cell_type": "markdown",
   "metadata": {},
   "source": [
    "Se guarda en csv para tableau y en json para mongo. "
   ]
  },
  {
   "cell_type": "code",
   "execution_count": 12,
   "metadata": {},
   "outputs": [],
   "source": [
    "df.to_csv('./companies.csv')"
   ]
  },
  {
   "cell_type": "code",
   "execution_count": 13,
   "metadata": {},
   "outputs": [],
   "source": [
    "df.to_json('./companies.json', orient='records', lines=True)"
   ]
  },
  {
   "cell_type": "markdown",
   "metadata": {},
   "source": [
    "En tableau se puede ver el mapa representando la localización de todas las empresas obtenidas tras esta primera limpieza.\n",
    "URL:  https://public.tableau.com/profile/patricia.rick#!/vizhome/Companies_distribution/Dashboard1?publish=yes"
   ]
  },
  {
   "cell_type": "code",
   "execution_count": null,
   "metadata": {},
   "outputs": [],
   "source": []
  }
 ],
 "metadata": {
  "kernelspec": {
   "display_name": "Python 3",
   "language": "python",
   "name": "python3"
  },
  "language_info": {
   "codemirror_mode": {
    "name": "ipython",
    "version": 3
   },
   "file_extension": ".py",
   "mimetype": "text/x-python",
   "name": "python",
   "nbconvert_exporter": "python",
   "pygments_lexer": "ipython3",
   "version": "3.7.2"
  }
 },
 "nbformat": 4,
 "nbformat_minor": 2
}
